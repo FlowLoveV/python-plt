{
 "cells": [
  {
   "cell_type": "markdown",
   "metadata": {},
   "source": [
    "该文件用于进行对数据文件进行测试"
   ]
  },
  {
   "cell_type": "code",
   "execution_count": 7,
   "metadata": {},
   "outputs": [],
   "source": [
    "import matplotlib\n",
    "from readRes import *\n",
    "from resPlt import *\n",
    "from dataProcess import *"
   ]
  },
  {
   "cell_type": "code",
   "execution_count": 8,
   "metadata": {},
   "outputs": [
    {
     "name": "stdout",
     "output_type": "stream",
     "text": [
      "\u001b[92m正在读取配置文件:/home/ubuntu/mashuo/python-plt/plt/pltSettings.yaml\u001b[92m\n",
      "\u001b[0m\u001b[0m\n"
     ]
    }
   ],
   "source": [
    "# 读取配置文件\n",
    "config = PltConfig()\n",
    "# 设置字体\n",
    "matplotlib.rc(\"font\", family=config.fontName)\n",
    "plt.rcParams['font.size'] = config.fontSize\n",
    "plt.rcParams['axes.unicode_minus'] = False"
   ]
  },
  {
   "cell_type": "code",
   "execution_count": null,
   "metadata": {},
   "outputs": [],
   "source": [
    "\n",
    "# 读取文件\n",
    "(res, ref) = readFile(config)\n",
    "print(res)\n",
    "print(ref)"
   ]
  },
  {
   "cell_type": "markdown",
   "metadata": {},
   "source": [
    "已经将结果文件和参考文件的数据全部读取出来，接下来需要自行进行处理"
   ]
  }
 ],
 "metadata": {
  "kernelspec": {
   "display_name": "Python 3",
   "language": "python",
   "name": "python3"
  },
  "language_info": {
   "codemirror_mode": {
    "name": "ipython",
    "version": 3
   },
   "file_extension": ".py",
   "mimetype": "text/x-python",
   "name": "python",
   "nbconvert_exporter": "python",
   "pygments_lexer": "ipython3",
   "version": "3.8.10"
  }
 },
 "nbformat": 4,
 "nbformat_minor": 2
}
